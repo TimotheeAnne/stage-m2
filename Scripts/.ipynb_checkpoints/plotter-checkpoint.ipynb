{
 "cells": [
  {
   "cell_type": "markdown",
   "metadata": {},
   "source": [
    "# Plotting Tools"
   ]
  },
  {
   "cell_type": "code",
   "execution_count": 1,
   "metadata": {},
   "outputs": [],
   "source": [
    "import os\n",
    "import csv\n",
    "import pickle\n",
    "import numpy as np\n",
    "from scipy.io import loadmat, savemat\n",
    "from scipy.stats import ttest_ind,  shapiro, mannwhitneyu\n",
    "import matplotlib.pyplot as plt\n",
    "import matplotlib.lines as mlines\n",
    "from mpl_toolkits.mplot3d import Axes3D\n",
    "import seaborn as sns\n",
    "import random\n",
    "import datetime\n",
    "import scipy.stats as sp \n",
    "from matplotlib import cm\n",
    "from tqdm import tqdm"
   ]
  },
  {
   "cell_type": "markdown",
   "metadata": {},
   "source": [
    "# Plot Armball tests "
   ]
  },
  {
   "cell_type": "code",
   "execution_count": 2,
   "metadata": {},
   "outputs": [],
   "source": [
    "log_dir = \"./log\" \n",
    "FIGSIZE = (15,9)\n",
    "LW = 3\n",
    "plt.rcParams.update({'font.size': 22})"
   ]
  },
  {
   "cell_type": "markdown",
   "metadata": {},
   "source": [
    "# Comparison"
   ]
  },
  {
   "cell_type": "code",
   "execution_count": 3,
   "metadata": {},
   "outputs": [],
   "source": [
    "def plot_performance(means,stds,X=None,names=None,title=\"\",ylabel=\"performance\", minimum = -np.inf, maximum=np.inf,\n",
    "                     log=False, double =False, xlabel=\"learning episodes\"):\n",
    "    if names is None:\n",
    "        names = [str(j) for j in range(len(means))]\n",
    "    compute_X = (X is None)\n",
    "    if len(means)<5:\n",
    "        ncol = [1,1,2,2,2][len(means)] \n",
    "    else:\n",
    "        ncol = len(means)//2\n",
    "    fig, ax = plt.subplots(figsize=FIGSIZE)\n",
    "    colors = ['crimson','royalblue','forestgreen','darkorange','orchid']\n",
    "    handles = []\n",
    "    for i in range(len(means)):\n",
    "        if (double and i>=len(means)/2):\n",
    "            linestyle = \":\"\n",
    "            color = colors[i%(len(means)//2)]\n",
    "        else:\n",
    "            linestyle = \"-\"\n",
    "            color = colors[i%len(colors)]\n",
    "        \n",
    "        mean, std = np.array(means[i]), np.array(stds[i])\n",
    "        mean_p_std = np.minimum(mean+std, maximum)\n",
    "        mean_m_std = np.maximum(mean-std, minimum)\n",
    "        \n",
    "        if compute_X:\n",
    "            X = [x for x in range(len(mean))]\n",
    "        plt.plot(X,mean, color = color,lw=LW, linestyle=linestyle)\n",
    "        ax.fill_between(X,mean_p_std , mean_m_std, color= color, alpha=0.15)\n",
    "        plt.plot(X, mean_p_std, color=color, alpha=0.2)\n",
    "        plt.plot(X, mean_m_std, color=color, alpha=0.2)\n",
    "        handles.append( mlines.Line2D([], [], color = color, linestyle=linestyle, label= names[i]))\n",
    "    if log:\n",
    "        plt.yscale(\"log\")\n",
    "        if (X[1]-X[0])!=(X[-1]-X[-2]):\n",
    "            plt.xscale(\"log\")\n",
    "    else:\n",
    "        if minimum != -np.inf and maximum!=np.inf:\n",
    "            plt.ylim(minimum,maximum)\n",
    "        elif minimum != -np.inf:\n",
    "            plt.ylim(minimum)\n",
    "    plt.title(title)\n",
    "    plt.xlabel(xlabel)\n",
    "    plt.ylabel(ylabel)\n",
    "    plt.legend(handles=handles, numpoints = 2, loc=\"center left\",ncol=ncol,bbox_to_anchor=(0., 1.07))\n",
    "    plt.show()"
   ]
  },
  {
   "cell_type": "markdown",
   "metadata": {},
   "source": [
    "# My tensorflow"
   ]
  },
  {
   "cell_type": "code",
   "execution_count": 4,
   "metadata": {},
   "outputs": [],
   "source": [
    "def plot_episodes_errors(subdirs,names,func,data_type):\n",
    "    data = ['eval_training_data.pk','eval_evaluation_data.pk','prediction.pk'][data_type]\n",
    "    traj_means, trans_means = [], []\n",
    "    traj_stds, trans_stds = [], []\n",
    "    for param in subdirs:\n",
    "        traj_errors = []\n",
    "        trans_errors = []\n",
    "        for subdir in param:\n",
    "            f = open(subdir+data,'br')\n",
    "            (pred_traj,pred_trans,true_traj) = pickle.load(f)\n",
    "            true_traj = np.swapaxes(true_traj[:,:,:18], 0,1)\n",
    "            if data_type == 2:\n",
    "                pred_traj = pred_traj[:,:,:18]\n",
    "                a, axis = 2, 0\n",
    "            else:\n",
    "                pred_traj = pred_traj[:,:,:,:18]\n",
    "                a , axis = 3, (0,1)\n",
    "            f.close()\n",
    "\n",
    "            traj_errors.append(func(np.linalg.norm( pred_traj-true_traj, axis=(a)), axis=a-1))\n",
    "            trans_errors.append(func(np.linalg.norm( pred_trans-true_traj, axis=(a)), axis=a-1))\n",
    "        traj_means.append(np.mean(traj_errors, axis=axis))\n",
    "        trans_means.append(np.mean(trans_errors, axis=axis))\n",
    "        trans_stds.append(np.std(trans_errors, axis=axis))\n",
    "        traj_stds.append(np.std(traj_errors, axis=axis))\n",
    "\n",
    "\n",
    "    means = traj_means+trans_means\n",
    "    stds = traj_stds +trans_stds\n",
    "    \n",
    "    names = [name+' traj' for name in names]+ [name+' trans' for name in names]\n",
    "    plot_performance(means,stds,log=True,names=names,ylabel=\"Trajectory prediction error\",xlabel=\"Prediction length\")\n",
    "    \n",
    "    fig,axarr = plt.subplots(2,1, sharex=True,figsize=(16,12))\n",
    "\n",
    "    plt.subplot(211)\n",
    "    plt.title(\"trajectory error\")\n",
    "    plt.boxplot(traj_means)\n",
    "    plt.yscale('log')\n",
    "    plt.xticks([i for i in range(1,1+len(names)//2)],names[:len(names)//2])\n",
    "    \n",
    "    plt.subplot(212)\n",
    "    plt.boxplot(trans_means)\n",
    "    plt.title(\"transition error\")\n",
    "    plt.ylabel(\"Error\")\n",
    "    plt.yscale('log')\n",
    "    \n",
    "    plt.xticks([i for i in range(1,1+len(names)//2)],names[:len(names)//2])"
   ]
  },
  {
   "cell_type": "code",
   "execution_count": 5,
   "metadata": {},
   "outputs": [],
   "source": [
    "def plot_pred(subdir,data_type, j, Tmax, Pmax):\n",
    "    fig, ax = plt.subplots(figsize=FIGSIZE)\n",
    "    data = ['eval_training_data.pk','eval_evaluation_data.pk','prediction.pk'][data_type]\n",
    "    with open(subdir+data,'br')as f:\n",
    "        (pred_traj,pred_trans,true_traj) = pickle.load(f)\n",
    "    if Pmax<5:\n",
    "        colors = ['crimson','royalblue','forestgreen','darkorange','orchid']\n",
    "    else:\n",
    "        colors = np.random.random((Pmax,3))\n",
    "    \n",
    "    for p in range(Pmax):\n",
    "        plt.plot(true_traj[j,:Tmax+1,p]-true_traj[j,0,p], c=colors[p], label=str(p))\n",
    "        if data_type == 2:\n",
    "            plt.plot(pred_traj[:Tmax+1,j,p]-pred_traj[0,j,p], ls=\":\", c=colors[p])\n",
    "        else:\n",
    "            for b in range(len(pred_traj)):\n",
    "                plt.plot(pred_traj[b,:Tmax+1,j,p]-pred_traj[b,0,j,p], ls=\":\", c=colors[p])\n",
    "        #plt.plot(true_traj[j,:Tmax+1,p]-pred_traj[j,:Tmax+1,p], c=colors[p], label=str(p))\n",
    "    plt.legend()\n"
   ]
  },
  {
   "cell_type": "code",
   "execution_count": 6,
   "metadata": {},
   "outputs": [],
   "source": [
    "def plot_confusion_matrix(subdirs,data):\n",
    "    def analyze_confusion_matrix(conf_matrix):\n",
    "        [[TN,FN],[FP,TP]] = conf_matrix\n",
    "        TPR = TP/(TP+FN) if (TP +FN) !=0 else 0\n",
    "        TNR = TN/(TN+FP) if (FP +TN) !=0 else 0\n",
    "        ACC = (TP+TN)/(TP+TN+FP+FN) if (TP+TN+FP+FN) !=0 else 0\n",
    "        Precision = TP/(TP+FP) if (TP+FP) !=0 else 0\n",
    "        FS = 2*TP/(2*TP+FP+FN) if (2*TP+FP+FN) !=0 else 0\n",
    "        return [TPR,TNR,ACC,Precision,FS]\n",
    "    \n",
    "    tasks_group =[[0,1,2,3],[4],[6,7,8,9],[14] , \n",
    "                  [5],[10,11,12,13], [15], \n",
    "                  [16] , [18,19,20,21],\n",
    "                  [17], [22, 23,24,25]]\n",
    "\n",
    "    group_legend = ['Hand', \n",
    "                    'Grasp Stick1','Move Stick1', 'Bring S1 Closer to M',   \n",
    "                    'Grasp Stick2','Move Stick2', 'Bring S2 Closer to S', \n",
    "                    'Grasp Magnet', 'Move Magnet',\n",
    "                    'Grasp Scratch','Move Scratch']\n",
    "\n",
    "    rates_names = ['Recall','TNR','Accuracy','Precision','F1 Score']\n",
    "    hatches = ['/','o','-','+']\n",
    "    color = ['blueviolet']+['royalblue']*3+['crimson']*3+['darkgreen']*2+['orange']*2\n",
    "        \n",
    "    Rates = []\n",
    "    Rates_error = []\n",
    "    if data is None:\n",
    "        for data in [0,1]:\n",
    "            filename = ['confusion_matrix_training_data.pk','confusion_matrix_evaluation_data.pk',\n",
    "                       'confusion_matrix.pk'][data]\n",
    "            with open(subdirs[0][0]+filename,'br')as f:\n",
    "                conf_matrix = pickle.load(f)\n",
    "            conf_matrix = np.mean(conf_matrix, axis=0)\n",
    "            rates = [[] for _ in range(5)]\n",
    "            for group in tasks_group:\n",
    "                res = analyze_confusion_matrix(np.mean(conf_matrix[group],axis=0))\n",
    "                for i in range(5):\n",
    "                    rates[i].append(res[i])\n",
    "            Rates.append(rates)\n",
    "    else:\n",
    "        for params in subdirs:\n",
    "            filename = ['confusion_matrix_training_data.pk','confusion_matrix_evaluation_data.pk',\n",
    "                       'confusion_matrix.pk'][data]\n",
    "            rates_mean = []\n",
    "            for subdir in params:\n",
    "                with open(subdir+filename,'br')as f:\n",
    "                    conf_matrix = pickle.load(f)\n",
    "                if data == 2:\n",
    "                    conf_matrix = conf_matrix\n",
    "                else:\n",
    "                    conf_matrix = np.mean(conf_matrix, axis=0)\n",
    "                rates = [[] for _ in range(5)]\n",
    "                for group in tasks_group:\n",
    "                    res = analyze_confusion_matrix(np.mean(conf_matrix[group],axis=0))\n",
    "                    for i in range(5):\n",
    "                        rates[i].append(res[i])\n",
    "                rates_mean.append(rates)\n",
    "            Rates.append(np.mean(rates_mean, axis=0))\n",
    "            Rates_error.append(np.std(rates_mean, axis=0))\n",
    "    for i in range(5):\n",
    "        fig,axarr = plt.subplots(1,1, sharex=True,figsize=(16,9))\n",
    "        plt.subplot(111)\n",
    "        w = 1/len(Rates)\n",
    "        width = [w]*11\n",
    "        for j in range(len(Rates)):\n",
    "            y = Rates[j][i]\n",
    "            x = np.array(range(len(y)))+w*j\n",
    "            yerr = Rates_error[j][i]\n",
    "            plt.bar( x, y, width, yerr=yerr, align='edge',color=color, edgecolor='black', hatch=hatches[j])\n",
    "\n",
    "        plt.ylim((0,1))\n",
    "        plt.xticks(np.array(range(len(y))),group_legend, rotation='vertical')\n",
    "        plt.title(rates_names[i])\n"
   ]
  },
  {
   "cell_type": "code",
   "execution_count": 7,
   "metadata": {},
   "outputs": [],
   "source": [
    "def plot_errors(subdirs,names,func,data_type, iteration=None, cpu=None):\n",
    "    if data_type < 3:\n",
    "        file = ['eval_training_data.pk','eval_evaluation_data.pk','prediction.pk'][data_type]\n",
    "    else:\n",
    "        file = ['eval_evaluation_data_'+str(iteration)+'.pk',\n",
    "                'prediction_r'+str(cpu)+'_'+str(iteration)+'.pk'][data_type-3]\n",
    "    traj_means, trans_means = [], []\n",
    "    traj_stds, trans_stds = [], []\n",
    "    for param in subdirs:\n",
    "        traj_errors = []\n",
    "        trans_errors = []\n",
    "        for subdir in param:\n",
    "            if data_type < 3:\n",
    "                with open(subdir+file,'br') as f:\n",
    "                    (pred_traj,pred_trans,true_traj) = pickle.load(f)\n",
    "            else:\n",
    "                with open(subdir+file,'br') as f:\n",
    "                    (pred_traj,pred_trans) = pickle.load(f)\n",
    "                with open(\"/home/tim/Documents/stage-m2/tf_test/data/ArmToolsToy_1000pertinent.pk\", 'br') as f:\n",
    "                    [true_traj,_] = pickle.load(f)\n",
    "            true_traj = np.swapaxes(true_traj[:,:,:18], 0,1)\n",
    "            if data_type in [2,4]:\n",
    "                pred_traj = pred_traj[:,:,:18]\n",
    "                a, axis = 2, (0,1)\n",
    "            else:\n",
    "                pred_traj = pred_traj[:,:,:,:18]\n",
    "                a, axis = 3, (0,1,2)\n",
    "            f.close()\n",
    "\n",
    "            traj_errors.append(np.sum((pred_traj-true_traj)**2, axis=a))\n",
    "            trans_errors.append(np.sum((pred_trans-true_traj)**2, axis=a))\n",
    "\n",
    "        traj_means.append(np.mean(traj_errors, axis=axis))\n",
    "        trans_means.append(np.mean(trans_errors, axis=axis))\n",
    "        trans_stds.append(np.std(trans_errors, axis=axis))\n",
    "        traj_stds.append(np.std(traj_errors, axis=axis))\n",
    "    print('traj: ',np.mean(traj_means) ,'trans: ', np.mean(trans_means))\n",
    "    means = traj_means+trans_means\n",
    "    stds = traj_stds +trans_stds\n",
    "    names = [name+' traj' for name in names]+ [name+' trans' for name in names]\n",
    "    plot_performance(means,stds,log=True,names=names,ylabel=\"trajectory prediction error\",\n",
    "                     xlabel=\"evaluation episode\")\n",
    "    "
   ]
  },
  {
   "cell_type": "code",
   "execution_count": 8,
   "metadata": {},
   "outputs": [],
   "source": [
    "def plot_traj(subdir,j, Tmax, pred_type, eval_type, cpu=None, iteration=None):\n",
    "    if eval_type < 3:\n",
    "        file = ['eval_training_data.pk','eval_evaluation_data.pk','prediction.pk'][eval_type]\n",
    "        with open(subdir+file,'br') as f:\n",
    "            (pred_traj,pred_trans,true_traj) = pickle.load(f)\n",
    "    else:\n",
    "        file = ['eval_evaluation_data_'+str(iteration)+'.pk',\n",
    "                'prediction_r'+str(cpu)+'_'+str(iteration)+'.pk'][eval_type-3]\n",
    "        with open(subdir+file,'br') as f:\n",
    "            (pred_traj,pred_trans) = pickle.load(f)\n",
    "        with open(\"/home/tim/Documents/stage-m2/tf_test/data/ArmToolsToy_1000pertinent.pk\", 'br') as f:\n",
    "            [true_traj,_] = pickle.load(f)\n",
    "    if pred_type:\n",
    "        pred = pred_traj\n",
    "    else:\n",
    "        pred = pred_trans\n",
    "    f.close()\n",
    "    fig, ax = plt.subplots(figsize=FIGSIZE)\n",
    "    colors = ['blueviolet','royalblue','crimson','darkgreen','orange']\n",
    "    print(\"t\",true_traj[j,0,3:4])\n",
    "    print(\"p\", pred[0,j,3:4])\n",
    "    plt.scatter(  true_traj[j,-1,3], true_traj[j,-1,4],color=colors[0],marker='X',zorder=4,s=100)\n",
    "    plt.scatter(  true_traj[j,-1,8], true_traj[j,-1,9],color=colors[1],marker='X',zorder=4,s=100)   \n",
    "    plt.scatter(true_traj[j,-1,12], true_traj[j,-1,13],color=colors[2],marker='X',zorder=4,s=100)   \n",
    "    plt.scatter(true_traj[j,-1,14], true_traj[j,-1,15],color=colors[3],marker='X',zorder=4,s=100)   \n",
    "    plt.scatter(true_traj[j,-1,16], true_traj[j,-1,17],color=colors[4],marker='X',zorder=4,s=100)   \n",
    "    \n",
    "    plt.plot(  true_traj[j,:Tmax,3], true_traj[j,:Tmax,4],lw=LW,ls=\"-\",c=colors[0])\n",
    "    plt.plot(  true_traj[j,:Tmax,8], true_traj[j,:Tmax,9],lw=LW,ls=\"-\",c=colors[1])\n",
    "    plt.plot(true_traj[j,:Tmax,12], true_traj[j,:Tmax,13],lw=LW,ls=\"-\",c=colors[2])  \n",
    "    plt.plot(true_traj[j,:Tmax,14], true_traj[j,:Tmax,15],lw=LW,ls=\"-\",c=colors[3])\n",
    "    plt.plot(true_traj[j,:Tmax,16], true_traj[j,:Tmax,17],lw=LW,ls=\"-\",c=colors[4])  \n",
    "    \n",
    "    if eval_type in [0,1,3]:\n",
    "        for b in range(len(pred)):\n",
    "            plt.scatter(  pred[b,-1,j,3], pred[b,-1,j,4],color=colors[0],marker='o',zorder=4,s=100)\n",
    "            plt.scatter(  pred[b,-1,j,8], pred[b,-1,j,9],color=colors[1],marker='o',zorder=4,s=100)\n",
    "            plt.scatter(pred[b,-1,j,12], pred[b,-1,j,13],color=colors[2],marker='o',zorder=4,s=100)\n",
    "            plt.scatter(pred[b,-1,j,14], pred[b,-1,j,15],color=colors[3],marker='o',zorder=4,s=100)\n",
    "            plt.scatter(pred[b,-1,j,16], pred[b,-1,j,17],color=colors[4],marker='o',zorder=4,s=100)\n",
    "            if b==0:\n",
    "                plt.plot(  pred[b,:Tmax,j,3], pred[b,:Tmax,j,4],lw=LW,ls=\":\",zorder=3,c=colors[0],label=\"hand\")\n",
    "                plt.plot(  pred[b,:Tmax,j,8], pred[b,:Tmax,j,9],lw=LW,ls=\":\",zorder=3,c=colors[1],label=\"stick1\")\n",
    "                plt.plot(pred[b,:Tmax,j,12], pred[b,:Tmax,j,13],lw=LW,ls=\":\",zorder=3,c=colors[2],label=\"stick2\")\n",
    "                plt.plot(pred[b,:Tmax,j,14], pred[b,:Tmax,j,15],lw=LW,ls=\":\",zorder=3,c=colors[3],label=\"magnet\")\n",
    "                plt.plot(pred[b,:Tmax,j,16], pred[b,:Tmax,j,17],lw=LW,ls=\":\",zorder=3,c=colors[4],label=\"scratch\")\n",
    "            else:\n",
    "                plt.plot(  pred[b,:Tmax,j,3], pred[b,:Tmax,j,4],lw=LW,ls=\":\",zorder=3,c=colors[0])\n",
    "                plt.plot(  pred[b,:Tmax,j,8], pred[b,:Tmax,j,9],lw=LW,ls=\":\",zorder=3,c=colors[1])\n",
    "                plt.plot(pred[b,:Tmax,j,12], pred[b,:Tmax,j,13],lw=LW,ls=\":\",zorder=3,c=colors[2])\n",
    "                plt.plot(pred[b,:Tmax,j,14], pred[b,:Tmax,j,15],lw=LW,ls=\":\",zorder=3,c=colors[3])\n",
    "                plt.plot(pred[b,:Tmax,j,16], pred[b,:Tmax,j,17],lw=LW,ls=\":\",zorder=3,c=colors[4])\n",
    "\n",
    "    else:\n",
    "        plt.scatter(  pred[-1,j,3], pred[-1,j,4],color=colors[0],marker='o',zorder=4,s=100)\n",
    "        plt.scatter(  pred[-1,j,8], pred[-1,j,9],color=colors[1],marker='o',zorder=4,s=100)\n",
    "        plt.scatter(pred[-1,j,12], pred[-1,j,13],color=colors[2],marker='o',zorder=4,s=100)\n",
    "        plt.scatter(pred[-1,j,14], pred[-1,j,15],color=colors[3],marker='o',zorder=4,s=100)\n",
    "        plt.scatter(pred[-1,j,16], pred[-1,j,17],color=colors[4],marker='o',zorder=4,s=100)\n",
    "\n",
    "        plt.plot(  pred[:Tmax,j,3], pred[:Tmax,j,4],lw=LW,ls=\":\",zorder=3,c=colors[0],label=\"hand\")\n",
    "        plt.plot(  pred[:Tmax,j,8], pred[:Tmax,j,9],lw=LW,ls=\":\",zorder=3,c=colors[1],label=\"stick1\")\n",
    "        plt.plot(pred[:Tmax,j,12], pred[:Tmax,j,13],lw=LW,ls=\":\",zorder=3,c=colors[2],label=\"stick2\")\n",
    "        plt.plot(pred[:Tmax,j,14], pred[:Tmax,j,15],lw=LW,ls=\":\",zorder=3,c=colors[3],label=\"magnet\")\n",
    "        plt.plot(pred[:Tmax,j,16], pred[:Tmax,j,17],lw=LW,ls=\":\",zorder=3,c=colors[4],label=\"scratch\")       \n",
    "    \n",
    "    plt.legend()"
   ]
  },
  {
   "cell_type": "code",
   "execution_count": 206,
   "metadata": {},
   "outputs": [],
   "source": [
    "#ALL\n",
    "train_400_E50 = \"/home/tim/Documents/stage-m2/tf_test/log/2019-05-06 15:12:33.403191/\"\n",
    "train_400_E20 = \"/home/tim/Documents/stage-m2/tf_test/log/2019-05-06 15:09:46.871224/\"\n",
    "train_400_E5x10 = \"/home/tim/Documents/stage-m2/tf_test/log/2019-05-07 11:03:06.589897/\"\n",
    "train_400_E5x10_2 = \"/home/tim/Documents/stage-m2/tf_test/log/2019-05-07 13:27:15.965663/\"\n",
    "train_400_E5x10_3 = \"/home/tim/Documents/stage-m2/tf_test/log/2019-05-07 13:30:17.948567/\"\n",
    "\n",
    "rand_400_E5x10_1 = \"/home/tim/Documents/stage-m2/tf_test/log/2019-05-07 14:04:06.773485/\"\n",
    "rand_400_E5x10_2 = \"/home/tim/Documents/stage-m2/tf_test/log/2019-05-07 14:05:01.690039/\"\n",
    "rand_400_E5x10_3 = \"/home/tim/Documents/stage-m2/tf_test/log/2019-05-07 14:06:20.198979/\"\n",
    "rand_400_E5x10_4 = \"/home/tim/Documents/stage-m2/tf_test/log/2019-05-07 14:07:14.011656/\"\n",
    "rand_400_E5x10_5 = \"/home/tim/Documents/stage-m2/tf_test/log/2019-05-07 14:08:22.181526/\"\n",
    "\n",
    "rand2_400_E5x10_1 = \"/home/tim/Documents/stage-m2/tf_test/log/2019-05-07 14:42:04.778127/\"\n",
    "rand2_400_E5x10_2 = \"/home/tim/Documents/stage-m2/tf_test/log/2019-05-07 14:43:39.408587/\"\n",
    "rand2_400_E5x10_3 = \"/home/tim/Documents/stage-m2/tf_test/log/2019-05-07 14:46:09.738973/\"\n",
    "rand2_400_E5x10_4 = \"/home/tim/Documents/stage-m2/tf_test/log/2019-05-07 14:47:45.564240/\"\n",
    "rand2_400_E5x10_5 = \"/home/tim/Documents/stage-m2/tf_test/log/2019-05-07 14:49:30.820393/\"\n",
    "\n",
    "train_4000_E50 = \"/home/tim/Documents/stage-m2/tf_test/log/2019-05-07 09:33:33.272141/\"\n",
    "train_4000_E20 = \"/home/tim/Documents/stage-m2/tf_test/log/2019-05-06 15:03:15.260011/\"\n",
    "\n",
    "train_4000_E5x10 = \"/home/tim/Documents/stage-m2/tf_test/log/2019-05-07 09:24:39.611758/\"\n",
    "train_4000_E5x10_2 = \"/home/tim/Documents/stage-m2/tf_test/log/2019-05-07 13:37:32.224467/\"\n",
    "train_4000_E5x10_3 = \"/home/tim/Documents/stage-m2/tf_test/log/2019-05-07 13:47:11.696824/\"\n",
    "\n",
    "train_4000_E5x10_REG_1_m3 = \"/home/tim/Documents/stage-m2/tf_test/log/2019-05-07 10:36:38.996937/\"\n",
    "train_4000_E5x10_REG_5_m4 =\"/home/tim/Documents/stage-m2/tf_test/log/2019-05-07 10:47:33.282024/\"\n",
    "\n",
    "rand_4000_E5x10_1 = \"/home/tim/Documents/stage-m2/tf_test/log/2019-05-07 14:09:28.860552/\"\n",
    "rand_4000_E5x10_2 = \"/home/tim/Documents/stage-m2/tf_test/log/2019-05-07 14:15:56.594515/\"\n",
    "rand_4000_E5x10_3 = \"/home/tim/Documents/stage-m2/tf_test/log/2019-05-07 14:22:04.458726/\"\n",
    "rand_4000_E5x10_4 = \"/home/tim/Documents/stage-m2/tf_test/log/2019-05-07 14:28:54.202069/\"\n",
    "rand_4000_E5x10_5 = \"/home/tim/Documents/stage-m2/tf_test/log/2019-05-07 14:35:24.063638/\"\n",
    "\n",
    "\n",
    "train_40000_E20 = \"/home/tim/Documents/stage-m2/tf_test/log/2019-05-06 15:47:33.065533/\"\n",
    "train_40000_E5x10 = \"/home/tim/Documents/stage-m2/tf_test/log/2019-05-07 09:47:06.154205/\"\n",
    "\n",
    "# hand + stick1\n",
    "HS1_400_E5x10 = \"/home/tim/Documents/stage-m2/tf_test/log/2019-05-07 11:16:01.775385/\"\n",
    "HS1_4000_E5x10 = \"/home/tim/Documents/stage-m2/tf_test/log/2019-05-07 11:20:22.952136/\"\n",
    "\n",
    "# hand + stick1 + magnet\n",
    "HS1M_4000_E5x10 = \"/home/tim/Documents/stage-m2/tf_test/log/2019-05-07 11:36:13.187451/\"\n",
    "HS1M_40000_E5x10 = \"/home/tim/Documents/stage-m2/tf_test/log/2019-05-07 11:52:35.596815/\"\n",
    "\n",
    "# hand + s2 + scratch\n",
    "HS2S_400_E5x10 = \"/home/tim/Documents/stage-m2/tf_test/log/2019-05-07 13:25:37.143043/\"\n",
    "HS2S_4000_E5x10 = \"/home/tim/Documents/stage-m2/tf_test/log/2019-05-07 13:12:20.784864/\"\n",
    "\n",
    "unicorn_20 = \"/home/tim/Documents/stage-m2/multi-task-her-rl/src/data/from_remote/ATT_20cpu_0/\"\n",
    "random = \"/home/tim/Documents/stage-m2/tf_test/log/random_0/\"\n",
    "\n",
    "test = \"/home/tim/Documents/stage-m2/tf_test/log/Evaluation_data/rl_0/\"\n",
    "imgep = \"/home/tim/Documents/stage-m2/tf_test/log/Evaluation_data/imgep_0/\"\n",
    "\n",
    "\"\"\" Groups \"\"\"\n",
    "rand_4000_from_40000 = [rand_4000_E5x10_1,rand_4000_E5x10_2,rand_4000_E5x10_3,rand_4000_E5x10_4,rand_4000_E5x10_5 ]\n",
    "rand_400_from_4000 = [rand_400_E5x10_1,rand_400_E5x10_2,rand_400_E5x10_3,rand_400_E5x10_4,rand_400_E5x10_5 ]\n",
    "rand_400_from_40000 = [rand2_400_E5x10_1,rand2_400_E5x10_2,rand2_400_E5x10_3,rand2_400_E5x10_4,rand2_400_E5x10_5]\n",
    "subdirs = [ \n",
    "            rand_400_from_4000,\n",
    "            rand_4000_from_40000\n",
    "            ]\n",
    "\n",
    "\n",
    "subdirs = [[test],[imgep]]\n",
    "names = [\"400\",\"imgep\"]"
   ]
  },
  {
   "cell_type": "code",
   "execution_count": 9,
   "metadata": {},
   "outputs": [],
   "source": [
    "path = \"/home/tim/Documents/stage-m2/tf_test/log/Evaluation_data/\"\n",
    "# Random\n",
    "random = [0,1,2,3,4,5,6,7,8,9]\n",
    "# GRBF\n",
    "grbf = [0,1,2,3,4,5,6,7,8,9]\n",
    "#IMGEP\n",
    "imgep = [0,1,2,3,4,5,6,7,8,9]\n",
    "#EXPLO\n",
    "explo = [0,1,2,3,4,5,6,7,8,9]\n",
    "# Model_Free\n",
    "model_free = [0]\n",
    "# RL\n",
    "rl = [0,1,2,3,4,6,7,8,9]\n",
    "\n",
    "subdirs =[[path+\"random_\"+str(i) for i in random],\n",
    "          [path+\"grbf_\"+str(i) for i in grbf],\n",
    "          [path+\"imgep_\"+str(i) for i in imgep],\n",
    "          [path+\"explo_\"+str(i) for i in explo],\n",
    "          [path+\"rl_\"+str(i) for i in rl]\n",
    "          ]\n",
    "\n",
    "\n",
    "perf_subdirs=[[path+\"random_\"+str(i) for i in random],\n",
    "              [path+\"grbf_\"+str(i) for i in [0,1,2,3,4,5,6,7,8]],\n",
    "              [path+\"imgep_\"+str(i) for i in imgep],\n",
    "              [path+\"explo_\"+str(i) for i in explo],\n",
    "              [path+\"rl_\"+str(i) for i in rl],\n",
    "              [path+\"model-free_\"+str(i) for i in [0]]\n",
    "              ]\n",
    "\n",
    "data_type = 1\n",
    "cpus = 20\n",
    "names = ['Random', 'GRBF', 'IMGEP', \"EU\", \"//RL\", \"MFRL\"]\n",
    "iterations = 10"
   ]
  },
  {
   "cell_type": "code",
   "execution_count": 10,
   "metadata": {},
   "outputs": [
    {
     "ename": "FileNotFoundError",
     "evalue": "[Errno 2] No such file or directory: '/prediction_r19_9.pk'",
     "output_type": "error",
     "traceback": [
      "\u001b[0;31m---------------------------------------------------------------------------\u001b[0m",
      "\u001b[0;31mFileNotFoundError\u001b[0m                         Traceback (most recent call last)",
      "\u001b[0;32m<ipython-input-10-7edde2eb549d>\u001b[0m in \u001b[0;36m<module>\u001b[0;34m\u001b[0m\n\u001b[0;32m----> 1\u001b[0;31m \u001b[0mplot_errors\u001b[0m\u001b[0;34m(\u001b[0m\u001b[0msubdirs\u001b[0m\u001b[0;34m[\u001b[0m\u001b[0;36m0\u001b[0m\u001b[0;34m]\u001b[0m\u001b[0;34m,\u001b[0m\u001b[0mnames\u001b[0m\u001b[0;34m,\u001b[0m\u001b[0mnp\u001b[0m\u001b[0;34m.\u001b[0m\u001b[0mmean\u001b[0m\u001b[0;34m,\u001b[0m\u001b[0mdata_type\u001b[0m\u001b[0;34m=\u001b[0m\u001b[0;36m4\u001b[0m\u001b[0;34m,\u001b[0m \u001b[0mcpu\u001b[0m\u001b[0;34m=\u001b[0m\u001b[0;36m19\u001b[0m\u001b[0;34m,\u001b[0m \u001b[0miteration\u001b[0m\u001b[0;34m=\u001b[0m\u001b[0;36m9\u001b[0m\u001b[0;34m)\u001b[0m\u001b[0;34m\u001b[0m\u001b[0;34m\u001b[0m\u001b[0m\n\u001b[0m",
      "\u001b[0;32m<ipython-input-7-b2cb06fe39ed>\u001b[0m in \u001b[0;36mplot_errors\u001b[0;34m(subdirs, names, func, data_type, iteration, cpu)\u001b[0m\n\u001b[1;32m     15\u001b[0m                     \u001b[0;34m(\u001b[0m\u001b[0mpred_traj\u001b[0m\u001b[0;34m,\u001b[0m\u001b[0mpred_trans\u001b[0m\u001b[0;34m,\u001b[0m\u001b[0mtrue_traj\u001b[0m\u001b[0;34m)\u001b[0m \u001b[0;34m=\u001b[0m \u001b[0mpickle\u001b[0m\u001b[0;34m.\u001b[0m\u001b[0mload\u001b[0m\u001b[0;34m(\u001b[0m\u001b[0mf\u001b[0m\u001b[0;34m)\u001b[0m\u001b[0;34m\u001b[0m\u001b[0;34m\u001b[0m\u001b[0m\n\u001b[1;32m     16\u001b[0m             \u001b[0;32melse\u001b[0m\u001b[0;34m:\u001b[0m\u001b[0;34m\u001b[0m\u001b[0;34m\u001b[0m\u001b[0m\n\u001b[0;32m---> 17\u001b[0;31m                 \u001b[0;32mwith\u001b[0m \u001b[0mopen\u001b[0m\u001b[0;34m(\u001b[0m\u001b[0msubdir\u001b[0m\u001b[0;34m+\u001b[0m\u001b[0mfile\u001b[0m\u001b[0;34m,\u001b[0m\u001b[0;34m'br'\u001b[0m\u001b[0;34m)\u001b[0m \u001b[0;32mas\u001b[0m \u001b[0mf\u001b[0m\u001b[0;34m:\u001b[0m\u001b[0;34m\u001b[0m\u001b[0;34m\u001b[0m\u001b[0m\n\u001b[0m\u001b[1;32m     18\u001b[0m                     \u001b[0;34m(\u001b[0m\u001b[0mpred_traj\u001b[0m\u001b[0;34m,\u001b[0m\u001b[0mpred_trans\u001b[0m\u001b[0;34m)\u001b[0m \u001b[0;34m=\u001b[0m \u001b[0mpickle\u001b[0m\u001b[0;34m.\u001b[0m\u001b[0mload\u001b[0m\u001b[0;34m(\u001b[0m\u001b[0mf\u001b[0m\u001b[0;34m)\u001b[0m\u001b[0;34m\u001b[0m\u001b[0;34m\u001b[0m\u001b[0m\n\u001b[1;32m     19\u001b[0m                 \u001b[0;32mwith\u001b[0m \u001b[0mopen\u001b[0m\u001b[0;34m(\u001b[0m\u001b[0;34m\"/home/tim/Documents/stage-m2/tf_test/data/ArmToolsToy_1000pertinent.pk\"\u001b[0m\u001b[0;34m,\u001b[0m \u001b[0;34m'br'\u001b[0m\u001b[0;34m)\u001b[0m \u001b[0;32mas\u001b[0m \u001b[0mf\u001b[0m\u001b[0;34m:\u001b[0m\u001b[0;34m\u001b[0m\u001b[0;34m\u001b[0m\u001b[0m\n",
      "\u001b[0;31mFileNotFoundError\u001b[0m: [Errno 2] No such file or directory: '/prediction_r19_9.pk'"
     ]
    }
   ],
   "source": [
    "plot_errors(subdirs[0],names,np.mean,data_type=4, cpu=19, iteration=9)"
   ]
  },
  {
   "cell_type": "code",
   "execution_count": 212,
   "metadata": {},
   "outputs": [
    {
     "name": "stdout",
     "output_type": "stream",
     "text": [
      "t [6.123234e-17]\n",
      "p [-0.06415749]\n"
     ]
    },
    {
     "data": {
      "image/png": "[encoded data removed]",
      "text/plain": [
       "<Figure size 1080x648 with 1 Axes>"
      ]
     },
     "metadata": {
      "needs_background": "light"
     },
     "output_type": "display_data"
    }
   ],
   "source": [
    "# 3 stick2, 4 scratch\n",
    "# 504 stick1, 515 magnet\n",
    "plot_traj(subdirs[1][0],j=0,Tmax=3,pred_type=1, eval_type=4, iteration=9, cpu=3)"
   ]
  },
  {
   "cell_type": "code",
   "execution_count": 201,
   "metadata": {
    "scrolled": false
   },
   "outputs": [
    {
     "ename": "FileNotFoundError",
     "evalue": "[Errno 2] No such file or directory: '/home/tim/Documents/stage-m2/tf_test/log/Evaluation_data/rl_0/confusion_matrix.pk'",
     "output_type": "error",
     "traceback": [
      "\u001b[0;31m---------------------------------------------------------------------------\u001b[0m",
      "\u001b[0;31mFileNotFoundError\u001b[0m                         Traceback (most recent call last)",
      "\u001b[0;32m<ipython-input-201-f2d9c8ca4351>\u001b[0m in \u001b[0;36m<module>\u001b[0;34m\u001b[0m\n\u001b[0;32m----> 1\u001b[0;31m \u001b[0mplot_confusion_matrix\u001b[0m\u001b[0;34m(\u001b[0m\u001b[0msubdirs\u001b[0m\u001b[0;34m,\u001b[0m\u001b[0;36m2\u001b[0m\u001b[0;34m)\u001b[0m\u001b[0;34m\u001b[0m\u001b[0;34m\u001b[0m\u001b[0m\n\u001b[0m",
      "\u001b[0;32m<ipython-input-6-8225e65aeb49>\u001b[0m in \u001b[0;36mplot_confusion_matrix\u001b[0;34m(subdirs, data)\u001b[0m\n\u001b[1;32m     45\u001b[0m             \u001b[0mrates_mean\u001b[0m \u001b[0;34m=\u001b[0m \u001b[0;34m[\u001b[0m\u001b[0;34m]\u001b[0m\u001b[0;34m\u001b[0m\u001b[0;34m\u001b[0m\u001b[0m\n\u001b[1;32m     46\u001b[0m             \u001b[0;32mfor\u001b[0m \u001b[0msubdir\u001b[0m \u001b[0;32min\u001b[0m \u001b[0mparams\u001b[0m\u001b[0;34m:\u001b[0m\u001b[0;34m\u001b[0m\u001b[0;34m\u001b[0m\u001b[0m\n\u001b[0;32m---> 47\u001b[0;31m                 \u001b[0;32mwith\u001b[0m \u001b[0mopen\u001b[0m\u001b[0;34m(\u001b[0m\u001b[0msubdir\u001b[0m\u001b[0;34m+\u001b[0m\u001b[0mfilename\u001b[0m\u001b[0;34m,\u001b[0m\u001b[0;34m'br'\u001b[0m\u001b[0;34m)\u001b[0m\u001b[0;32mas\u001b[0m \u001b[0mf\u001b[0m\u001b[0;34m:\u001b[0m\u001b[0;34m\u001b[0m\u001b[0;34m\u001b[0m\u001b[0m\n\u001b[0m\u001b[1;32m     48\u001b[0m                     \u001b[0mconf_matrix\u001b[0m \u001b[0;34m=\u001b[0m \u001b[0mpickle\u001b[0m\u001b[0;34m.\u001b[0m\u001b[0mload\u001b[0m\u001b[0;34m(\u001b[0m\u001b[0mf\u001b[0m\u001b[0;34m)\u001b[0m\u001b[0;34m\u001b[0m\u001b[0;34m\u001b[0m\u001b[0m\n\u001b[1;32m     49\u001b[0m                 \u001b[0;32mif\u001b[0m \u001b[0mdata\u001b[0m \u001b[0;34m==\u001b[0m \u001b[0;36m2\u001b[0m\u001b[0;34m:\u001b[0m\u001b[0;34m\u001b[0m\u001b[0;34m\u001b[0m\u001b[0m\n",
      "\u001b[0;31mFileNotFoundError\u001b[0m: [Errno 2] No such file or directory: '/home/tim/Documents/stage-m2/tf_test/log/Evaluation_data/rl_0/confusion_matrix.pk'"
     ]
    }
   ],
   "source": [
    "plot_confusion_matrix(subdirs,2)"
   ]
  },
  {
   "cell_type": "code",
   "execution_count": null,
   "metadata": {},
   "outputs": [],
   "source": [
    "plot_episodes_errors(subdirs,names,np.mean,2)"
   ]
  },
  {
   "cell_type": "code",
   "execution_count": null,
   "metadata": {},
   "outputs": [],
   "source": [
    "plot_pred(subdirs[0][0],data_type=2, j=0, Tmax=51, Pmax=4)"
   ]
  },
  {
   "cell_type": "markdown",
   "metadata": {},
   "source": [
    "# Exploration"
   ]
  },
  {
   "cell_type": "code",
   "execution_count": 9,
   "metadata": {},
   "outputs": [],
   "source": [
    "GRBF = \"/home/tim/Documents/stage-m2/tf_test/log/2019-05-09 13:55:06.838349\"\n",
    "uniform = \"/home/tim/Documents/stage-m2/tf_test/log/2019-05-09 14:05:10.620229\"\n",
    "\n",
    "increasing_horizon = \"/home/tim/Documents/stage-m2/tf_test/log/2019-05-10 15:12:30.592432\"\n",
    "fixed_horizon = \"/home/tim/Documents/stage-m2/tf_test/log/2019-05-13 13:59:45.939339\"\n",
    "\n",
    "subdir = fixed_horizon\n",
    "\n",
    "data = []\n",
    "with open(subdir+\"/exploration.pk\", \"rb\") as f:\n",
    "    while True:\n",
    "        try:\n",
    "            data.append(pickle.load(f))\n",
    "        except:\n",
    "            break\n",
    "\n"
   ]
  },
  {
   "cell_type": "code",
   "execution_count": 10,
   "metadata": {},
   "outputs": [
    {
     "name": "stdout",
     "output_type": "stream",
     "text": [
      "94 406\n",
      "shaprior: 8.425237590925505e-11 3.7025324195878685e-16\n",
      "ttest: 1.500291333531184 0.13417265044932208\n",
      "man whitney u: 17110.0 0.05916070050769322\n"
     ]
    }
   ],
   "source": [
    "[actions, uncertainty, obs, pred] = data[-1]\n",
    "obs = np.array(obs) \n",
    "\n",
    "moving = []\n",
    "fixed = []\n",
    "for j in range(len(uncertainty)):\n",
    "    if np.linalg.norm(obs[j,-1,24:36]) > 0 :\n",
    "        moving.append(j)\n",
    "    else:\n",
    "        fixed.append(j)\n",
    "print(len(moving),len(fixed))\n",
    "\n",
    "from scipy.stats import ttest_ind,  shapiro, mannwhitneyu\n",
    "data1 = uncertainty[moving]\n",
    "data2 = uncertainty[fixed]\n",
    "\n",
    "W, p1 = shapiro(data1)\n",
    "W, p2= shapiro(data2)\n",
    "print(\"shaprior:\", p1, p2)\n",
    "stat, p = ttest_ind(data1,data2 )\n",
    "print(\"ttest:\", stat, p)\n",
    "stat, p = mannwhitneyu(data1, data2)\n",
    "print(\"man whitney u:\", stat, p)"
   ]
  },
  {
   "cell_type": "code",
   "execution_count": null,
   "metadata": {},
   "outputs": [],
   "source": [
    "[actions, uncertainty, obs, pred] = data[1]\n",
    "obs = np.array(obs) \n",
    "\n",
    "uncertainty = np.sum(np.std(pred, axis=0), axis=(0,2))\n",
    "\n",
    "cmap = cm.get_cmap('jet')\n",
    "norm = plt.Normalize(vmin=min(uncertainty), vmax=max(uncertainty))\n",
    "\n",
    "fig,ax = plt.subplots(1,1, sharex=True,figsize=(16,12))\n",
    "for j in range(0,len(uncertainty)):\n",
    "    plt.plot(obs[j,:,3], obs[j,:,4],lw=3,alpha=0.5, c=cmap(norm(uncertainty[j])))\n",
    "    \n",
    "plt.title(\"Hand Trajectories Uncertainty\")\n",
    "sm = plt.cm.ScalarMappable(cmap=cmap, norm=norm)\n",
    "sm._A = []\n",
    "cb = plt.colorbar(sm)\n",
    "cb.ax.set_ylabel('Uncertainty')"
   ]
  },
  {
   "cell_type": "code",
   "execution_count": null,
   "metadata": {},
   "outputs": [],
   "source": [
    "cmap = cm.get_cmap('jet')\n",
    "norm = plt.Normalize(vmin=min(uncertainty), vmax=max(uncertainty))\n",
    "\n",
    "fig,ax = plt.subplots(1,1, sharex=True,figsize=(16,9))\n",
    "for j in range(0,len(uncertainty)):\n",
    "    plt.plot(obs[j,:,8], obs[j,:,9],ls=\"--\",lw=3,alpha=0.5, c=cmap(norm(uncertainty[j])))\n",
    "    plt.plot(obs[j,:,12], obs[j,:,13], ls= \":\", lw=3,alpha=0.5, c=cmap(norm(uncertainty[j])))\n",
    "\n",
    "plt.title(\"Sticks Trajectories Uncertainty\")\n",
    "sm = plt.cm.ScalarMappable(cmap=cmap, norm=norm)\n",
    "sm._A = []\n",
    "cb = plt.colorbar(sm)\n",
    "cb.ax.set_ylabel('Uncertainty')"
   ]
  },
  {
   "cell_type": "code",
   "execution_count": null,
   "metadata": {},
   "outputs": [],
   "source": [
    "cmap = cm.get_cmap('jet')\n",
    "norm = plt.Normalize(vmin=min(uncertainty), vmax=max(uncertainty))\n",
    "\n",
    "colors = ['blueviolet','royalblue','crimson','darkgreen','orange']\n",
    "    \n",
    "fig,ax = plt.subplots(1,1, sharex=True,figsize=(16,9))\n",
    "for j in range(450, len(uncertainty)-1):\n",
    "    plt.plot(obs[j,:,8], obs[j,:,9],ls=\"--\",lw=3,alpha=0.5, c=cmap(norm(uncertainty[j])))\n",
    "    plt.plot(obs[j,:,12], obs[j,:,13], ls= \":\", lw=3,alpha=0.5, c=cmap(norm(uncertainty[j])))\n",
    "    for i in range(5):\n",
    "        plt.plot(pred[i,:,j,8],pred[i,:,j,9], c=colors[i] )\n",
    "        plt.plot(pred[i,:,j,12],pred[i,:,j,13], c=colors[i] )\n",
    "        \n",
    "sm = plt.cm.ScalarMappable(cmap=cmap, norm=norm)\n",
    "sm._A = []\n",
    "plt.colorbar(sm)"
   ]
  },
  {
   "cell_type": "code",
   "execution_count": null,
   "metadata": {},
   "outputs": [],
   "source": [
    "i = 1\n",
    "[actions, uncertainty, obs, pred] = data[i]\n",
    "EU = np.std(pred, axis=0)[:,:,:18]"
   ]
  },
  {
   "cell_type": "code",
   "execution_count": null,
   "metadata": {},
   "outputs": [],
   "source": []
  },
  {
   "cell_type": "code",
   "execution_count": null,
   "metadata": {},
   "outputs": [],
   "source": [
    "i = 1\n",
    "[actions, uncertainty, obs, pred] = data[i]\n",
    "obs = np.array(obs)\n",
    "\n",
    "ep_moving = []\n",
    "ep_fixed = []\n",
    "\n",
    "tr_moving = []\n",
    "tr_fixed = []\n",
    "\n",
    "EU = np.std(pred, axis=0)[:,:,:18]\n",
    "\n",
    "norm = np.mean(EU, axis=1)\n",
    "for t in range(len(norm)):\n",
    "    for d in range(len(norm[t])):\n",
    "        if norm[t][d] == 0:\n",
    "            norm[t][d] = 1\n",
    "            \n",
    "for j in range(len(uncertainty)):\n",
    "    if np.linalg.norm(obs[j,-1,24:36]) > 0 :\n",
    "        ep_moving.append(EU[:,j,:18]/norm)\n",
    "    else:\n",
    "        ep_fixed.append(EU[:,j,:18]/norm)\n",
    "    for t in range(1,len(obs[j])):\n",
    "        if np.linalg.norm(obs[j,t,6:18]-obs[j,t-1,6:18]) > 0 :\n",
    "            tr_moving.append(EU[t,j,:18]/norm[t])\n",
    "        else:\n",
    "            tr_fixed.append(EU[t,j,:18]/norm[t])\n",
    "\n",
    "print(len(ep_moving),len(ep_fixed))\n",
    "print(len(tr_moving),len(tr_fixed))\n",
    "\n",
    "data1 = np.mean(ep_moving, axis=(1,2))\n",
    "data2 = np.mean(ep_fixed, axis=(1,2))\n",
    "print(np.mean(data1),np.mean(data2))\n",
    "W, p1 = shapiro(data1)\n",
    "W, p2= shapiro(data2)\n",
    "print(\"shaprior:\", p1, p2)\n",
    "stat, p = ttest_ind(data1,data2 )\n",
    "print(\"ttest:\",  p)\n",
    "stat, p = mannwhitneyu(data1, data2)\n",
    "print(\"man whitney u:\",  p)\n",
    "\n",
    "fig,ax = plt.subplots(1,1, sharex=True,figsize=(16,9))\n",
    "\n",
    "x1 = np.array(range(5))\n",
    "x2 = x1 +0.5\n",
    "width = [0.5]*5\n",
    "\n",
    "y1 = np.mean(ep_moving,axis=(0,1))\n",
    "y2 = np.mean(ep_fixed,axis=(0,1))\n",
    "\n",
    "#y1 = np.mean(tr_moving,axis=(0))\n",
    "#y2 = np.mean(tr_fixed,axis=(0))\n",
    "\n",
    "y1 = [np.mean(y1[:6]), np.mean(y1[6:10]), np.mean(y1[10:14]),np.mean(y1[14:16]),np.mean(y1[16:18])]\n",
    "y2 = [np.mean(y2[:6]), np.mean(y2[6:10]), np.mean(y2[10:14]),np.mean(y2[14:16]),np.mean(y2[16:18])]\n",
    "\n",
    "plt.bar(x1,y1,width,label=\"moving\", )\n",
    "plt.bar(x2,y2,width,label=\"static\")\n",
    "\n",
    "plt.title(\"Estimated epistemic uncertainty\")\n",
    "group_legend = [\"Hand\", \"Stick1\", \"Stick2\", \"Magnet\", \"Scratch\"]\n",
    "plt.xticks(np.array(range(len(y1)))+0.25,group_legend, rotation='vertical')\n",
    "plt.legend()"
   ]
  },
  {
   "cell_type": "code",
   "execution_count": null,
   "metadata": {},
   "outputs": [],
   "source": [
    "func = np.mean\n",
    "\n",
    "EP_mean, TR_mean, TR_final_mean, EP_max_mean = [], [], [], []\n",
    "EP_std, TR_std, TR_final_std = [], [], []\n",
    "\n",
    "EP_mean2, TR_mean2, TR_final_mean2, EP_max_mean2 = [], [], [], []\n",
    "EP_std2, TR_std2, TR_final_std2 = [], [], []\n",
    "\n",
    "\n",
    "            \n",
    "for i in range(1,len(data)):\n",
    "    [_, _, obs, pred] = data[i]\n",
    "    obs = np.array(obs)\n",
    "    EU = np.std(pred, axis=0)[:,:,:18]\n",
    "    norm = np.mean(EU, axis=1)\n",
    "    for t in range(len(norm)):\n",
    "        for d in range(len(norm[t])):\n",
    "            if norm[t][d] == 0:\n",
    "                norm[t][d] = 1\n",
    "    ep, tr_final, tr , ep_max = [[],[]], [[],[]], [[],[]], [[],[]]\n",
    "\n",
    "    for j in range(len(uncertainty)):\n",
    "        if np.linalg.norm(obs[j,-1,24:36]) > 0 :\n",
    "            ep[0].append(func(EU[:,j,:18]/norm))\n",
    "            tr_final[0].append(func(EU[-1,j,:18]/norm[-1]))\n",
    "            ep_max[0].append(np.max(np.mean(EU[:,j,:18]/norm, axis=1)))\n",
    "        else:\n",
    "            ep[1].append(func(EU[:,j,:18]/norm))\n",
    "            tr_final[1].append(func(EU[-1,j,:18]/norm[-1]))\n",
    "            ep_max[1].append(np.max(np.mean(EU[:,j,:18]/norm, axis=1))) \n",
    "\n",
    "        for t in range(1,len(obs[j])):\n",
    "            if np.linalg.norm(obs[j,t,6:18]-obs[j,t-1,6:18]) > 0 :\n",
    "                tr[0].append(func(EU[t,j,:18]/norm[t]))\n",
    "            else:\n",
    "                tr[1].append(func(EU[t,j,:18]/norm[t]))\n",
    "\n",
    "    EP_mean.append(np.mean(ep[0]))\n",
    "    EP_std.append(np.std(ep[0]))\n",
    "\n",
    "    TR_mean.append(np.mean(tr[0]))\n",
    "    TR_std.append(np.std(tr[0]))\n",
    "    \n",
    "    TR_final_mean.append(np.mean(tr_final[0]))\n",
    "    TR_final_std.append(np.std(tr_final[0]))    \n",
    "\n",
    "    EP_max_mean.append(np.mean(ep_max[0]))\n",
    "    EP_max_mean2.append(np.mean(ep_max[1]))\n",
    "    \n",
    "    EP_mean2.append(np.mean(ep[1]))\n",
    "    EP_std2.append(np.std(ep[1]))\n",
    "\n",
    "    TR_mean2.append(np.mean(tr[1]))\n",
    "    TR_std2.append(np.std(tr[1]))\n",
    "    \n",
    "    TR_final_mean2.append(np.mean(tr_final[1]))\n",
    "    TR_final_std2.append(np.std(tr_final[1])) \n",
    "    \n",
    "names = [\"EP\",\"TR\",\"TR_final\"]*2\n",
    "\n",
    "EP = (np.array(EP_mean)-np.array(EP_mean2))/np.array(EP_mean2)\n",
    "TR = (np.array(TR_mean)-np.array(TR_mean2))/np.array(TR_mean2)\n",
    "TR_final = (np.array(TR_final_mean)-np.array(TR_final_mean2))/np.array(TR_final_mean2)\n",
    "EP_max = (np.array(EP_max_mean)-np.array(EP_max_mean2))/np.array(EP_max_mean2)\n",
    "\n",
    "fig,ax = plt.subplots(1,1, sharex=True,figsize=(16,9))\n",
    "plt.plot(range(1,10),EP, lw=5, label=\"Episodes\")\n",
    "plt.plot(range(1,10),TR, lw=5, label=\"Transitions\")\n",
    "plt.plot(range(1,10),TR_final, lw=5, label=\"Finales Transitions\")\n",
    "plt.plot(range(1,10),EP_max, lw=5, label=\"Episodes max\")\n",
    "plt.ylabel(\"Discrimination\")\n",
    "plt.xlabel(\"Iterations\")\n",
    "plt.title(\"Estimated epistemic uncertainty discrimination\")\n",
    "plt.legend()\n"
   ]
  },
  {
   "cell_type": "code",
   "execution_count": null,
   "metadata": {
    "scrolled": false
   },
   "outputs": [],
   "source": [
    "Proportion = []\n",
    "for it in range(10):\n",
    "    print(it)\n",
    "    [_, _, obs, pred] = data[it]\n",
    "    obs = np.array(obs)\n",
    "    EU = np.std(pred, axis=0)[:,:,:18]\n",
    "    norm = np.ones((51,18))\n",
    "    norm = np.mean(EU, axis=1)\n",
    "    for t in range(len(norm)):\n",
    "        for d in range(len(norm[t])):\n",
    "            if norm[t][d] == 0:\n",
    "                norm[t][d] = 1\n",
    "    \n",
    "    EU = np.mean(np.swapaxes(EU,0,1)/norm, axis=(1,2))\n",
    "    indexes = np.argsort(EU)\n",
    "    EU = EU[indexes]\n",
    "    obs = obs[indexes]\n",
    "\n",
    "\n",
    "    moving_x, moving_y, fixed_x, fixed_y = [], [], [], []\n",
    "\n",
    "    for j in range(len(obs)):\n",
    "        if np.linalg.norm(obs[j,-1,24:36]) > 0 :\n",
    "            moving_x.append(j)\n",
    "            moving_y.append(EU[j])\n",
    "        else:\n",
    "            fixed_x.append(j)\n",
    "            fixed_y.append(EU[j])\n",
    "\n",
    "    width = 0.75\n",
    "    if False:\n",
    "        fig,ax = plt.subplots(1,1, sharex=True,figsize=(16,9))\n",
    "        plt.boxplot([moving_x,fixed_x ])\n",
    "        plt.ylabel(\"Uncertainty\")\n",
    "        plt.xlabel(\"Steps\")\n",
    "        plt.title(\"Estimated epistemic uncertainty discrimination\")\n",
    "\n",
    "    data1 = moving_x\n",
    "    data2 = fixed_x\n",
    "    print(np.mean(data1),np.mean(data2))\n",
    "    W, p1 = shapiro(data1)\n",
    "    W, p2= shapiro(data2)\n",
    "    print(\"shaprior:\", p1, p2)\n",
    "    stat, p = ttest_ind(data1,data2 )\n",
    "    print(\"ttest:\",  p)\n",
    "    stat, p = mannwhitneyu(data1, data2)\n",
    "    print(\"man whitney u:\",  p)\n",
    "\n",
    "    proportion = []\n",
    "    count = 0\n",
    "    for i in range(499,-1,-1):\n",
    "        if i in moving_x:\n",
    "            count += 1\n",
    "        proportion.append(count/(500-i))\n",
    "    Proportion.append(proportion)\n",
    "\n",
    "fig,ax = plt.subplots(1,1, sharex=True,figsize=(16,9))\n",
    "plt.plot(np.mean(Proportion,axis=0)[:100])\n",
    "\n",
    "plot_performance([np.mean(Proportion,axis=0)[:100]], [np.std(Proportion,axis=0)[:100]], minimum= 0.2, maximum = 0.4)"
   ]
  },
  {
   "cell_type": "code",
   "execution_count": null,
   "metadata": {},
   "outputs": [],
   "source": [
    "a = np.array([1,5,3,6,2,4])\n",
    "ind = np.argsort(a)\n",
    "a[ind[-3:]]"
   ]
  },
  {
   "cell_type": "markdown",
   "metadata": {},
   "source": [
    "# Select training samples"
   ]
  },
  {
   "cell_type": "code",
   "execution_count": 50,
   "metadata": {},
   "outputs": [],
   "source": [
    "import sys\n",
    "sys.path.append('../multi-task-her-rl/src/reward_function/')\n",
    "from reward_function import OracleRewardFuntion\n",
    "oracle = OracleRewardFuntion(30)"
   ]
  },
  {
   "cell_type": "code",
   "execution_count": 142,
   "metadata": {},
   "outputs": [
    {
     "data": {
      "text/plain": [
       "(100000, 51, 36)"
      ]
     },
     "execution_count": 142,
     "metadata": {},
     "output_type": "execute_result"
    }
   ],
   "source": [
    "filename = \"/home/tim/Documents/stage-m2/tf_test/data/imgep_eval.pk\"\n",
    "\n",
    "with open(filename, 'br') as f:\n",
    "    [true_traj,Acs] = pickle.load(f)\n",
    "true_traj = np.array(true_traj)\n",
    "Acs = np.array(Acs)\n",
    "np.shape(true_traj)"
   ]
  },
  {
   "cell_type": "code",
   "execution_count": 143,
   "metadata": {},
   "outputs": [
    {
     "data": {
      "text/plain": [
       "array([3.2337e+04, 2.4859e+04, 0.0000e+00, 9.1284e+04, 1.8402e+04,\n",
       "       3.6738e+04, 1.3252e+04, 8.0000e+01, 3.0590e+03, 1.1575e+04,\n",
       "       3.2700e+02, 2.7703e+04, 5.8580e+03, 2.1163e+04, 4.4180e+03,\n",
       "       1.6469e+04, 3.4100e+03, 1.4778e+04, 2.0740e+03, 3.7500e+02,\n",
       "       1.4300e+02, 2.5680e+03, 4.9320e+03, 6.5370e+03, 7.0000e+01,\n",
       "       1.1082e+04, 5.6320e+03, 1.8432e+04, 3.5470e+03, 1.5105e+04])"
      ]
     },
     "execution_count": 143,
     "metadata": {},
     "output_type": "execute_result"
    }
   ],
   "source": [
    "rewards = oracle.eval_all_goals_from_state(true_traj[:,-1])+np.ones(30)\n",
    "np.sum(rewards,axis=0)"
   ]
  },
  {
   "cell_type": "code",
   "execution_count": 146,
   "metadata": {},
   "outputs": [
    {
     "data": {
      "text/plain": [
       "[154,\n",
       " 182,\n",
       " 0,\n",
       " 459,\n",
       " 250,\n",
       " 249,\n",
       " 169,\n",
       " 30,\n",
       " 89,\n",
       " 122,\n",
       " 30,\n",
       " 163,\n",
       " 88,\n",
       " 119,\n",
       " 177,\n",
       " 178,\n",
       " 168,\n",
       " 173,\n",
       " 59,\n",
       " 51,\n",
       " 50,\n",
       " 100,\n",
       " 63,\n",
       " 83,\n",
       " 50,\n",
       " 99,\n",
       " 184,\n",
       " 183,\n",
       " 168,\n",
       " 174]"
      ]
     },
     "execution_count": 146,
     "metadata": {},
     "output_type": "execute_result"
    }
   ],
   "source": [
    "indices = []\n",
    "count = [0 for _ in range(30)]\n",
    "for j in range(len(rewards)-1,0,-1):\n",
    "    to_take = False\n",
    "    r_idx = np.where( rewards[j] == 1)[0]\n",
    "    \n",
    "    if len(r_idx) == 0:\n",
    "        to_take = False\n",
    "\n",
    "    for r in r_idx:\n",
    "        if r in range(18,26) and count[r] < 50:\n",
    "            to_take = True\n",
    "        elif r not in range(18,26) and count[r] < 30:\n",
    "            to_take = True\n",
    "    if to_take:\n",
    "        indices.append(j)\n",
    "        for r in np.where( rewards[j] == 1)[0]:\n",
    "            count[r] += 1  \n",
    "count"
   ]
  },
  {
   "cell_type": "code",
   "execution_count": 149,
   "metadata": {},
   "outputs": [
    {
     "data": {
      "text/plain": [
       "500"
      ]
     },
     "execution_count": 149,
     "metadata": {},
     "output_type": "execute_result"
    }
   ],
   "source": [
    "indices = list(set(indices))\n",
    "len(indices)"
   ]
  },
  {
   "cell_type": "code",
   "execution_count": 148,
   "metadata": {},
   "outputs": [],
   "source": [
    "indices = indices[:-19]"
   ]
  },
  {
   "cell_type": "code",
   "execution_count": null,
   "metadata": {},
   "outputs": [],
   "source": []
  },
  {
   "cell_type": "code",
   "execution_count": 58,
   "metadata": {},
   "outputs": [
    {
     "data": {
      "text/plain": [
       "array([193., 136.,   0., 438., 216., 252., 143.,  30.,  68., 107.,  30.,\n",
       "       172.,  98.,  75., 114., 157.,  93., 128.,  36.,  30.,  30.,  47.,\n",
       "        38.,  65.,  30.,  56., 136., 171.,  96., 135.])"
      ]
     },
     "execution_count": 58,
     "metadata": {},
     "output_type": "execute_result"
    }
   ],
   "source": [
    "np.sum(oracle.eval_all_goals_from_state(true_traj[indices,-1])+np.ones(30), axis=0)"
   ]
  },
  {
   "cell_type": "code",
   "execution_count": 165,
   "metadata": {},
   "outputs": [],
   "source": [
    "filename = \"/home/tim/Documents/stage-m2/tf_test/data/ArmToolsToyR_500imgep.pk\"\n",
    "with open(filename, 'br') as f:\n",
    "    [true_traj3,Acs3] = pickle.load(f)\n",
    "filename = \"/home/tim/Documents/stage-m2/tf_test/data/ArmToolsToyR_400random.pk\"\n",
    "with open(filename, 'br') as f:\n",
    "    [true_traj2,Acs2] = pickle.load(f)\n",
    "filename = \"/home/tim/Documents/stage-m2/tf_test/data/ArmToolsToyR_100randomMS.pk\"\n",
    "with open(filename, 'br') as f:\n",
    "    [true_traj1,Acs1] = pickle.load(f)"
   ]
  },
  {
   "cell_type": "code",
   "execution_count": 166,
   "metadata": {},
   "outputs": [],
   "source": [
    "true_traj = np.concatenate((true_traj1,true_traj2,true_traj3))\n",
    "Acs = np.concatenate((Acs1, Acs2,Acs3))"
   ]
  },
  {
   "cell_type": "code",
   "execution_count": 167,
   "metadata": {},
   "outputs": [],
   "source": [
    "filename = \"/home/tim/Documents/stage-m2/tf_test/data/ArmToolsToyR_pertinent.pk\"\n",
    "with open(filename, 'bw') as f:\n",
    "    pickle.dump([true_traj, Acs], f)"
   ]
  },
  {
   "cell_type": "markdown",
   "metadata": {},
   "source": [
    "## coverage"
   ]
  },
  {
   "cell_type": "code",
   "execution_count": 168,
   "metadata": {},
   "outputs": [
    {
     "data": {
      "text/plain": [
       "(1000, 51, 36)"
      ]
     },
     "execution_count": 168,
     "metadata": {},
     "output_type": "execute_result"
    }
   ],
   "source": [
    "filename = \"/home/tim/Documents/stage-m2/tf_test/data/ArmToolsToyR_pertinent.pk\"\n",
    "\n",
    "with open(filename, 'br') as f:\n",
    "    [observations,acs] = pickle.load(f)\n",
    "true_traj = np.array( observations)\n",
    "np.shape( true_traj)"
   ]
  },
  {
   "cell_type": "code",
   "execution_count": 140,
   "metadata": {},
   "outputs": [
    {
     "data": {
      "text/plain": [
       "array([[ 0.01691469,  0.01957383, -0.03125831],\n",
       "       [-0.0580488 ,  0.02031312, -0.05148962],\n",
       "       [-0.03235833,  0.0484606 , -0.07369694],\n",
       "       ...,\n",
       "       [ 0.01240296,  0.05391701,  0.12723158],\n",
       "       [-0.00059191, -0.01115582,  0.03684487],\n",
       "       [ 0.05230366, -0.08799021,  0.02360851]])"
      ]
     },
     "execution_count": 140,
     "metadata": {},
     "output_type": "execute_result"
    }
   ],
   "source": [
    "true_traj[:,0,:3]"
   ]
  },
  {
   "cell_type": "code",
   "execution_count": 155,
   "metadata": {},
   "outputs": [
    {
     "data": {
      "text/plain": [
       "Text(0.5, 1.0, 'Evaluation coverage')"
      ]
     },
     "execution_count": 155,
     "metadata": {},
     "output_type": "execute_result"
    },
    {
     "data": {
      "image/png": "[encoded data removed]",
      "text/plain": [
       "<Figure size 1008x1008 with 1 Axes>"
      ]
     },
     "metadata": {
      "needs_background": "light"
     },
     "output_type": "display_data"
    }
   ],
   "source": [
    "fig,ax = plt.subplots(1,1, sharex=True,figsize=(14,14))\n",
    "colors = ['blueviolet','royalblue','crimson','darkgreen','orange']\n",
    "plt.scatter(true_traj[:,-1,3],true_traj[:,-1,4], c=colors[0], label = \"Hand\")\n",
    "plt.scatter(true_traj[:,-1,8],true_traj[:,-1,9], c=colors[1], label = \"Left Stick\")\n",
    "plt.scatter(true_traj[:,-1,12],true_traj[:,-1,13], c=colors[2], label = \"Right Stick\")\n",
    "plt.scatter(true_traj[:,-1,14],true_traj[:,-1,15], c=colors[3], label = \"Magnet\")\n",
    "plt.scatter(true_traj[:,-1,16],true_traj[:,-1,17], c=colors[4], label = \"Scratch\")\n",
    "plt.legend()\n",
    "plt.title(\"Evaluation coverage\")"
   ]
  },
  {
   "cell_type": "code",
   "execution_count": 156,
   "metadata": {},
   "outputs": [
    {
     "name": "stdout",
     "output_type": "stream",
     "text": [
      "0.73 0.425 0.445 0.3025 0.3125\n"
     ]
    }
   ],
   "source": [
    "\n",
    "n_bins = [20,20]\n",
    "N_bins = n_bins[0]*n_bins[1]\n",
    "\n",
    "x , y, rng = true_traj[:,-1,3],true_traj[:,-1,4], [[-1., 1.], [-1., 1.]]\n",
    "bins = sp.binned_statistic_2d(x, y, None, 'count', bins=n_bins, range=rng).binnumber\n",
    "hand = len(set(bins))/N_bins \n",
    "\n",
    "x , y, rng = true_traj[:,-1,8],true_traj[:,-1,9], [[-1.5, 1.5], [-1.5, 1.5]]\n",
    "bins = sp.binned_statistic_2d(x, y, None, 'count', bins=n_bins, range=rng).binnumber\n",
    "lstick = len(set(bins))/N_bins \n",
    "\n",
    "x , y, rng = true_traj[:,-1,12],true_traj[:,-1,13], [[-1.5, 1.5], [-1.5, 1.5]]\n",
    "bins = sp.binned_statistic_2d(x, y, None, 'count', bins=n_bins, range=rng).binnumber\n",
    "rstick = len(set(bins))/N_bins \n",
    "\n",
    "x , y, rng = true_traj[:,-1,14],true_traj[:,-1,15], [[-1.5, 1.5], [-1.5, 1.5]]\n",
    "bins = sp.binned_statistic_2d(x, y, None, 'count', bins=n_bins, range=rng).binnumber\n",
    "magnet = len(set(bins))/N_bins \n",
    "\n",
    "x , y, rng = true_traj[:,-1,16],true_traj[:,-1,17], [[-1.5, 1.5], [-1.5, 1.5]]\n",
    "bins = sp.binned_statistic_2d(x, y, None, 'count', bins=n_bins, range=rng).binnumber\n",
    "scratch = len(set(bins))/N_bins \n",
    "\n",
    "print(hand, lstick, rstick, magnet, scratch)"
   ]
  },
  {
   "cell_type": "code",
   "execution_count": null,
   "metadata": {},
   "outputs": [],
   "source": [
    "0.74 0.285 0.315 0.15 0.2"
   ]
  },
  {
   "cell_type": "markdown",
   "metadata": {},
   "source": [
    "# Truc"
   ]
  },
  {
   "cell_type": "code",
   "execution_count": 3,
   "metadata": {},
   "outputs": [],
   "source": [
    "filename = \"/home/tim/Documents/stage-m2/tf_test/data/imgep_train9.pk\"\n",
    "\n",
    "with open(filename, 'br') as f:\n",
    "    [true_traj,Acs] = pickle.load(f)\n",
    "true_traj = np.array( true_traj)\n",
    "Acs = np.array(Acs)"
   ]
  },
  {
   "cell_type": "code",
   "execution_count": 4,
   "metadata": {},
   "outputs": [
    {
     "name": "stderr",
     "output_type": "stream",
     "text": [
      "100%|██████████| 10/10 [00:00<00:00, 15.00it/s]\n"
     ]
    }
   ],
   "source": [
    "for it in tqdm(range(10)):\n",
    "    with open('/home/tim/Documents/stage-m2/armtolstoy/arm_run_saves/imgep9/imgep_'+str(it)+'.pk', 'wb') as f:\n",
    "        pickle.dump( [true_traj[it*10000:(it+1)*10000], Acs[it*10000:(it+1)*10000]], f)"
   ]
  },
  {
   "cell_type": "code",
   "execution_count": 159,
   "metadata": {},
   "outputs": [
    {
     "data": {
      "text/plain": [
       "1000"
      ]
     },
     "execution_count": 159,
     "metadata": {},
     "output_type": "execute_result"
    }
   ],
   "source": [
    "len(true_traj)"
   ]
  },
  {
   "cell_type": "code",
   "execution_count": 24,
   "metadata": {},
   "outputs": [
    {
     "data": {
      "text/plain": [
       "array([[0.94596538, 0.66746342],\n",
       "       [0.86659299, 0.6783412 ],\n",
       "       [0.79792586, 0.6013423 ],\n",
       "       [0.55281277, 0.27453089],\n",
       "       [0.6022745 , 0.60531597],\n",
       "       [0.56334991, 0.65895227],\n",
       "       [0.85242295, 0.85673756],\n",
       "       [0.48288469, 0.750608  ],\n",
       "       [0.82514434, 0.62980999],\n",
       "       [0.81562832, 0.85032862]])"
      ]
     },
     "execution_count": 24,
     "metadata": {},
     "output_type": "execute_result"
    }
   ],
   "source": [
    "obs"
   ]
  },
  {
   "cell_type": "code",
   "execution_count": 25,
   "metadata": {},
   "outputs": [],
   "source": [
    "indexes = np.array(range(10))\n",
    "np.random.shuffle(indexes)"
   ]
  },
  {
   "cell_type": "code",
   "execution_count": 26,
   "metadata": {},
   "outputs": [
    {
     "data": {
      "text/plain": [
       "array([8, 6, 9, 4, 1, 5, 0, 3, 7, 2])"
      ]
     },
     "execution_count": 26,
     "metadata": {},
     "output_type": "execute_result"
    }
   ],
   "source": [
    "indexes"
   ]
  },
  {
   "cell_type": "code",
   "execution_count": 27,
   "metadata": {},
   "outputs": [],
   "source": [
    "ind = np.split(indexes, 2)"
   ]
  },
  {
   "cell_type": "code",
   "execution_count": 28,
   "metadata": {},
   "outputs": [
    {
     "data": {
      "text/plain": [
       "array([[0.82514434, 0.62980999],\n",
       "       [0.85242295, 0.85673756],\n",
       "       [0.81562832, 0.85032862],\n",
       "       [0.6022745 , 0.60531597],\n",
       "       [0.86659299, 0.6783412 ]])"
      ]
     },
     "execution_count": 28,
     "metadata": {},
     "output_type": "execute_result"
    }
   ],
   "source": [
    "obs[ind[0]]"
   ]
  },
  {
   "cell_type": "code",
   "execution_count": 29,
   "metadata": {},
   "outputs": [
    {
     "data": {
      "text/plain": [
       "array([[0.56334991, 0.65895227],\n",
       "       [0.94596538, 0.66746342],\n",
       "       [0.55281277, 0.27453089],\n",
       "       [0.48288469, 0.750608  ],\n",
       "       [0.79792586, 0.6013423 ]])"
      ]
     },
     "execution_count": 29,
     "metadata": {},
     "output_type": "execute_result"
    }
   ],
   "source": [
    "obs[ind[1]]"
   ]
  },
  {
   "cell_type": "code",
   "execution_count": null,
   "metadata": {},
   "outputs": [],
   "source": []
  }
 ],
 "metadata": {
  "kernelspec": {
   "display_name": "Python 3",
   "language": "python",
   "name": "python3"
  },
  "language_info": {
   "codemirror_mode": {
    "name": "ipython",
    "version": 3
   },
   "file_extension": ".py",
   "mimetype": "text/x-python",
   "name": "python",
   "nbconvert_exporter": "python",
   "pygments_lexer": "ipython3",
   "version": "3.7.1"
  }
 },
 "nbformat": 4,
 "nbformat_minor": 2
}
